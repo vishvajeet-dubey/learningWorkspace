{
 "cells": [
  {
   "cell_type": "markdown",
   "id": "9fb01df2",
   "metadata": {},
   "source": [
    "**Documantation**<br>\n",
    "File name explanation<br>\n",
    "001sparkLearning_basic<br>\n",
    "`001`--> file number<br>\n",
    "`sparkLearning` --> course name(camelCase)<br>\n",
    "`_` --> Seperator between cource name and toppic name<br>\n",
    "`basic` --> toppic name(camelCase)<br>"
   ]
  },
  {
   "cell_type": "code",
   "execution_count": 6,
   "id": "7c584654",
   "metadata": {},
   "outputs": [
    {
     "name": "stderr",
     "output_type": "stream",
     "text": [
      "UsageError: Cell magic `%%md` not found.\n"
     ]
    }
   ],
   "source": [
    "\n"
   ]
  },
  {
   "cell_type": "code",
   "execution_count": null,
   "id": "551d3607",
   "metadata": {},
   "outputs": [],
   "source": []
  }
 ],
 "metadata": {
  "kernelspec": {
   "display_name": "Python 3 (ipykernel)",
   "language": "python",
   "name": "python3"
  },
  "language_info": {
   "codemirror_mode": {
    "name": "ipython",
    "version": 3
   },
   "file_extension": ".py",
   "mimetype": "text/x-python",
   "name": "python",
   "nbconvert_exporter": "python",
   "pygments_lexer": "ipython3",
   "version": "3.11.3"
  }
 },
 "nbformat": 4,
 "nbformat_minor": 5
}
