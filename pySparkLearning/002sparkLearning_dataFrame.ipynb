{
 "cells": [
  {
   "cell_type": "markdown",
   "id": "39445e4a-9a02-4d9e-94c7-a2037938e5e9",
   "metadata": {},
   "source": [
    "# Topics will covered\n",
    "1. PySpark Dataframe\n",
    "2. Reading the Dataset\n",
    "3. Checking the Datatypes of the coulumn(Schema)\n",
    "4. Selecting Describe option similar to Pandas\n",
    "5. Adding column\n",
    "6. Dropping column"
   ]
  },
  {
   "cell_type": "markdown",
   "id": "eed6727b-0fa4-40e7-985b-aaa9fa85b23d",
   "metadata": {
    "tags": []
   },
   "source": [
    "*importing the SparkSession*"
   ]
  },
  {
   "cell_type": "code",
   "execution_count": 1,
   "id": "942701a7-060c-43f3-b4c2-5becace85ddc",
   "metadata": {
    "tags": []
   },
   "outputs": [],
   "source": [
    "from pyspark.sql import SparkSession"
   ]
  },
  {
   "cell_type": "markdown",
   "id": "f0adf735-e01c-4eb6-ac23-4cd372d69240",
   "metadata": {},
   "source": [
    "*Definiing SparkSession variable and Application Name*"
   ]
  },
  {
   "cell_type": "code",
   "execution_count": 4,
   "id": "b5e04350-49e4-4184-9405-3c6f6da280f4",
   "metadata": {
    "tags": []
   },
   "outputs": [],
   "source": [
    "spark=SparkSession.builder.appName('Dataframe').getOrCreate()"
   ]
  },
  {
   "cell_type": "code",
   "execution_count": 5,
   "id": "76ca35aa-8657-40b3-85ac-7992a5b42488",
   "metadata": {
    "tags": []
   },
   "outputs": [
    {
     "data": {
      "text/html": [
       "\n",
       "            <div>\n",
       "                <p><b>SparkSession - in-memory</b></p>\n",
       "                \n",
       "        <div>\n",
       "            <p><b>SparkContext</b></p>\n",
       "\n",
       "            <p><a href=\"http://vishvapc:4040\">Spark UI</a></p>\n",
       "\n",
       "            <dl>\n",
       "              <dt>Version</dt>\n",
       "                <dd><code>v3.4.1</code></dd>\n",
       "              <dt>Master</dt>\n",
       "                <dd><code>local[*]</code></dd>\n",
       "              <dt>AppName</dt>\n",
       "                <dd><code>Dataframe</code></dd>\n",
       "            </dl>\n",
       "        </div>\n",
       "        \n",
       "            </div>\n",
       "        "
      ],
      "text/plain": [
       "<pyspark.sql.session.SparkSession at 0x7fd71809ee10>"
      ]
     },
     "execution_count": 5,
     "metadata": {},
     "output_type": "execute_result"
    }
   ],
   "source": [
    "spark"
   ]
  },
  {
   "cell_type": "markdown",
   "id": "7735fd76-5265-4a91-828f-a2de387009cc",
   "metadata": {},
   "source": [
    "### 01. PySpark Dataframe"
   ]
  },
  {
   "cell_type": "code",
   "execution_count": 9,
   "id": "dde0a52e-5598-4a28-af49-652503fc904a",
   "metadata": {
    "tags": []
   },
   "outputs": [],
   "source": [
    "## read the dataset\n",
    "df_pyspark=spark.read.option('header', 'true').csv('001sparkLearning_testDataset.csv')"
   ]
  },
  {
   "cell_type": "code",
   "execution_count": 11,
   "id": "5a9b30ed-d945-4eef-a8cf-9edb22ac5d7e",
   "metadata": {
    "tags": []
   },
   "outputs": [
    {
     "name": "stdout",
     "output_type": "stream",
     "text": [
      "+------+---+----------+\n",
      "|  Name|age|Experience|\n",
      "+------+---+----------+\n",
      "| Krish| 31|        10|\n",
      "|Vishva| 25|         2|\n",
      "| Sunny| 29|         4|\n",
      "+------+---+----------+\n",
      "\n"
     ]
    }
   ],
   "source": [
    "df_pyspark.show()"
   ]
  },
  {
   "cell_type": "code",
   "execution_count": 12,
   "id": "e155f8d1-ddb9-4a02-8c14-e7cdad8746f7",
   "metadata": {
    "tags": []
   },
   "outputs": [
    {
     "name": "stdout",
     "output_type": "stream",
     "text": [
      "root\n",
      " |-- Name: string (nullable = true)\n",
      " |-- age: string (nullable = true)\n",
      " |-- Experience: string (nullable = true)\n",
      "\n"
     ]
    }
   ],
   "source": [
    "## check the schema\n",
    "df_pyspark.printSchema()"
   ]
  },
  {
   "cell_type": "code",
   "execution_count": 15,
   "id": "10535160-8689-4c19-9212-73cd8e360b47",
   "metadata": {
    "tags": []
   },
   "outputs": [
    {
     "name": "stdout",
     "output_type": "stream",
     "text": [
      "+------+---+----------+\n",
      "|  Name|age|Experience|\n",
      "+------+---+----------+\n",
      "| Krish| 31|        10|\n",
      "|Vishva| 25|         2|\n",
      "| Sunny| 29|         4|\n",
      "+------+---+----------+\n",
      "\n"
     ]
    }
   ],
   "source": [
    "### another way to read the variable where first row as column\n",
    "df_pyspark=spark.read.csv('001sparkLearning_testDataset.csv', header=True, inferSchema=True)\n",
    "df_pyspark.show()"
   ]
  },
  {
   "cell_type": "markdown",
   "id": "295f9dbe-3b85-4e5c-8f55-eac1703ca218",
   "metadata": {},
   "source": [
    "### 02. Reading the dataset"
   ]
  },
  {
   "cell_type": "code",
   "execution_count": 17,
   "id": "ef124b0d-c887-4d70-917c-5ee0b0cf6e41",
   "metadata": {
    "tags": []
   },
   "outputs": [
    {
     "data": {
      "text/plain": [
       "[Row(Name='Krish', age=31, Experience=10),\n",
       " Row(Name='Vishva', age=25, Experience=2)]"
      ]
     },
     "execution_count": 17,
     "metadata": {},
     "output_type": "execute_result"
    }
   ],
   "source": [
    "### selecting top 2 record\n",
    "df_pyspark.head(2)"
   ]
  },
  {
   "cell_type": "code",
   "execution_count": 18,
   "id": "21270b1c-341e-4617-8767-be548f3497a1",
   "metadata": {
    "tags": []
   },
   "outputs": [
    {
     "name": "stdout",
     "output_type": "stream",
     "text": [
      "+------+\n",
      "|  Name|\n",
      "+------+\n",
      "| Krish|\n",
      "|Vishva|\n",
      "| Sunny|\n",
      "+------+\n",
      "\n"
     ]
    }
   ],
   "source": [
    "### selecting column\n",
    "df_pyspark.select('Name').show()"
   ]
  },
  {
   "cell_type": "code",
   "execution_count": 20,
   "id": "8125d93e-9d45-4487-ba8e-9ded11ddd502",
   "metadata": {
    "tags": []
   },
   "outputs": [
    {
     "data": {
      "text/plain": [
       "pyspark.sql.dataframe.DataFrame"
      ]
     },
     "execution_count": 20,
     "metadata": {},
     "output_type": "execute_result"
    }
   ],
   "source": [
    "### type of column\n",
    "type(df_pyspark.select('Name'))"
   ]
  },
  {
   "cell_type": "code",
   "execution_count": 22,
   "id": "b855074c-84bc-40b1-b144-7bcd5fbd2102",
   "metadata": {
    "tags": []
   },
   "outputs": [
    {
     "name": "stdout",
     "output_type": "stream",
     "text": [
      "+------+----------+\n",
      "|  Name|Experience|\n",
      "+------+----------+\n",
      "| Krish|        10|\n",
      "|Vishva|         2|\n",
      "| Sunny|         4|\n",
      "+------+----------+\n",
      "\n"
     ]
    }
   ],
   "source": [
    "### selecting multiple columns\n",
    "df_pyspark.select('Name', 'Experience').show()"
   ]
  },
  {
   "cell_type": "markdown",
   "id": "f3a46a71-cce2-44fb-bc18-3ecc1f9dbcc4",
   "metadata": {},
   "source": [
    "### 03. Checking the column type of schema"
   ]
  },
  {
   "cell_type": "code",
   "execution_count": null,
   "id": "eec25fad-5c8d-456e-8692-5b50210f5fd3",
   "metadata": {},
   "outputs": [],
   "source": [
    "df_pyspark.select([]))"
   ]
  }
 ],
 "metadata": {
  "kernelspec": {
   "display_name": "Python 3 (ipykernel)",
   "language": "python",
   "name": "python3"
  },
  "language_info": {
   "codemirror_mode": {
    "name": "ipython",
    "version": 3
   },
   "file_extension": ".py",
   "mimetype": "text/x-python",
   "name": "python",
   "nbconvert_exporter": "python",
   "pygments_lexer": "ipython3",
   "version": "3.11.3"
  }
 },
 "nbformat": 4,
 "nbformat_minor": 5
}
