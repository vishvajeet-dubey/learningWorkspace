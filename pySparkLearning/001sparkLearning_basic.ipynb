{
 "cells": [
  {
   "cell_type": "markdown",
   "id": "068d9bb6",
   "metadata": {},
   "source": [
    "**Documantation**<br>\n",
    "File name explanation<br>\n",
    "001sparkLearning_basic<br>\n",
    "`001`--> file number<br>\n",
    "`sparkLearning` --> course name(camelCase)<br>\n",
    "`_` --> Seperator between cource name and toppic name<br>\n",
    "`basic` --> toppic name(camelCase)<br>"
   ]
  },
  {
   "cell_type": "markdown",
   "id": "efc81245",
   "metadata": {},
   "source": [
    "# PySpark Overview\n",
    "* PySpark is the Python API for Apache Spark. \n",
    "* It enables you to perform real-time, large-scale data processing in a distributed environment using Python. \n",
    "* It also provides a PySpark shell for interactively analyzing your data.\n",
    "* Please check the docs [link](https://spark.apache.org/docs/latest/api/python/index.html) for more.\n",
    "\n",
    "### Topics cover:\n",
    "1. importing SparkSession\n",
    "2. Reading csv data\n",
    "3. Print Dataset\n",
    "4. Set the first row as column/header\n",
    "5. Type of datafame\n",
    "6. Displaying first n rows"
   ]
  },
  {
   "cell_type": "markdown",
   "id": "51a24f8f",
   "metadata": {},
   "source": [
    "*import the pyspark*"
   ]
  },
  {
   "cell_type": "code",
   "execution_count": 1,
   "id": "74b0aa16",
   "metadata": {},
   "outputs": [],
   "source": [
    "import pyspark"
   ]
  },
  {
   "cell_type": "markdown",
   "id": "e0f1dbd2",
   "metadata": {},
   "source": [
    "create the csv file dataset in same folder and let try to read from pandas"
   ]
  },
  {
   "cell_type": "code",
   "execution_count": 2,
   "id": "b6df5ae8",
   "metadata": {},
   "outputs": [
    {
     "data": {
      "text/html": [
       "<div>\n",
       "<style scoped>\n",
       "    .dataframe tbody tr th:only-of-type {\n",
       "        vertical-align: middle;\n",
       "    }\n",
       "\n",
       "    .dataframe tbody tr th {\n",
       "        vertical-align: top;\n",
       "    }\n",
       "\n",
       "    .dataframe thead th {\n",
       "        text-align: right;\n",
       "    }\n",
       "</style>\n",
       "<table border=\"1\" class=\"dataframe\">\n",
       "  <thead>\n",
       "    <tr style=\"text-align: right;\">\n",
       "      <th></th>\n",
       "      <th>Name</th>\n",
       "      <th>age</th>\n",
       "    </tr>\n",
       "  </thead>\n",
       "  <tbody>\n",
       "    <tr>\n",
       "      <th>0</th>\n",
       "      <td>Krish</td>\n",
       "      <td>31</td>\n",
       "    </tr>\n",
       "    <tr>\n",
       "      <th>1</th>\n",
       "      <td>Vishva</td>\n",
       "      <td>25</td>\n",
       "    </tr>\n",
       "    <tr>\n",
       "      <th>2</th>\n",
       "      <td>Sunny</td>\n",
       "      <td>29</td>\n",
       "    </tr>\n",
       "  </tbody>\n",
       "</table>\n",
       "</div>"
      ],
      "text/plain": [
       "     Name  age\n",
       "0   Krish   31\n",
       "1  Vishva   25\n",
       "2   Sunny   29"
      ]
     },
     "execution_count": 2,
     "metadata": {},
     "output_type": "execute_result"
    }
   ],
   "source": [
    "import pandas as pd\n",
    "pd.read_csv('001sparkLearning_testDataset.csv')"
   ]
  },
  {
   "cell_type": "markdown",
   "id": "98665221",
   "metadata": {},
   "source": [
    "### 01. importing SparkSession\n",
    "*if you want to work with spark you need to start the spark session.*<br>\n",
    "starting the SparkSession"
   ]
  },
  {
   "cell_type": "code",
   "execution_count": 3,
   "id": "cfbe40f1",
   "metadata": {},
   "outputs": [],
   "source": [
    "from pyspark.sql import SparkSession"
   ]
  },
  {
   "cell_type": "code",
   "execution_count": 12,
   "id": "0beba37f",
   "metadata": {},
   "outputs": [],
   "source": [
    "#sparkVariable=SparkSession.builder.aapName('applicationName').getOrcreate()\n",
    "spark=SparkSession.builder.appName('Practice').getOrCreate()"
   ]
  },
  {
   "cell_type": "code",
   "execution_count": 5,
   "id": "4adc51a5",
   "metadata": {},
   "outputs": [
    {
     "data": {
      "text/html": [
       "\n",
       "            <div>\n",
       "                <p><b>SparkSession - in-memory</b></p>\n",
       "                \n",
       "        <div>\n",
       "            <p><b>SparkContext</b></p>\n",
       "\n",
       "            <p><a href=\"http://vishvapc:4040\">Spark UI</a></p>\n",
       "\n",
       "            <dl>\n",
       "              <dt>Version</dt>\n",
       "                <dd><code>v3.4.1</code></dd>\n",
       "              <dt>Master</dt>\n",
       "                <dd><code>local[*]</code></dd>\n",
       "              <dt>AppName</dt>\n",
       "                <dd><code>Practice</code></dd>\n",
       "            </dl>\n",
       "        </div>\n",
       "        \n",
       "            </div>\n",
       "        "
      ],
      "text/plain": [
       "<pyspark.sql.session.SparkSession at 0x7f6fbcfa3890>"
      ]
     },
     "execution_count": 5,
     "metadata": {},
     "output_type": "execute_result"
    }
   ],
   "source": [
    "spark"
   ]
  },
  {
   "cell_type": "markdown",
   "id": "6de290f6",
   "metadata": {},
   "source": [
    "### 02. Reading csv data"
   ]
  },
  {
   "cell_type": "code",
   "execution_count": 6,
   "id": "46b93840",
   "metadata": {},
   "outputs": [],
   "source": [
    "df_pyspark=spark.read.csv('001sparkLearning_testDataset.csv')"
   ]
  },
  {
   "cell_type": "markdown",
   "id": "d4a1c5b1",
   "metadata": {},
   "source": [
    "### 03. Print Dataset"
   ]
  },
  {
   "cell_type": "code",
   "execution_count": 7,
   "id": "26546cfa",
   "metadata": {
    "scrolled": true
   },
   "outputs": [
    {
     "name": "stdout",
     "output_type": "stream",
     "text": [
      "+------+---+\n",
      "|   _c0|_c1|\n",
      "+------+---+\n",
      "|  Name|age|\n",
      "| Krish| 31|\n",
      "|Vishva| 25|\n",
      "| Sunny| 29|\n",
      "+------+---+\n",
      "\n"
     ]
    }
   ],
   "source": [
    "df_pyspark.show()"
   ]
  },
  {
   "cell_type": "markdown",
   "id": "0c22fcab",
   "metadata": {},
   "source": [
    "### 04. Set the first row as column/header"
   ]
  },
  {
   "cell_type": "code",
   "execution_count": 8,
   "id": "808cbb9e",
   "metadata": {},
   "outputs": [],
   "source": [
    "df_pyspark=spark.read.option('header', 'true').csv('001sparkLearning_testDataset.csv')"
   ]
  },
  {
   "cell_type": "code",
   "execution_count": 9,
   "id": "1982fe90",
   "metadata": {},
   "outputs": [
    {
     "name": "stdout",
     "output_type": "stream",
     "text": [
      "+------+---+\n",
      "|  Name|age|\n",
      "+------+---+\n",
      "| Krish| 31|\n",
      "|Vishva| 25|\n",
      "| Sunny| 29|\n",
      "+------+---+\n",
      "\n"
     ]
    }
   ],
   "source": [
    "df_pyspark.show()"
   ]
  },
  {
   "cell_type": "markdown",
   "id": "d37a527a",
   "metadata": {},
   "source": [
    "### 05. Type of datafame"
   ]
  },
  {
   "cell_type": "code",
   "execution_count": 10,
   "id": "f940c40a",
   "metadata": {},
   "outputs": [
    {
     "data": {
      "text/plain": [
       "pyspark.sql.dataframe.DataFrame"
      ]
     },
     "execution_count": 10,
     "metadata": {},
     "output_type": "execute_result"
    }
   ],
   "source": [
    "type(df_pyspark)"
   ]
  },
  {
   "cell_type": "markdown",
   "id": "e311e96a",
   "metadata": {},
   "source": [
    "### 06. Displaying first n rows"
   ]
  },
  {
   "cell_type": "code",
   "execution_count": 11,
   "id": "e804c088",
   "metadata": {},
   "outputs": [
    {
     "data": {
      "text/plain": [
       "[Row(Name='Krish', age='31')]"
      ]
     },
     "execution_count": 11,
     "metadata": {},
     "output_type": "execute_result"
    }
   ],
   "source": [
    "df_pyspark.head(1) #click on shift + tab inside method to see the documentation for the method"
   ]
  },
  {
   "cell_type": "markdown",
   "id": "ae086a3e",
   "metadata": {},
   "source": [
    "# --END--"
   ]
  }
 ],
 "metadata": {
  "kernelspec": {
   "display_name": "Python 3 (ipykernel)",
   "language": "python",
   "name": "python3"
  },
  "language_info": {
   "codemirror_mode": {
    "name": "ipython",
    "version": 3
   },
   "file_extension": ".py",
   "mimetype": "text/x-python",
   "name": "python",
   "nbconvert_exporter": "python",
   "pygments_lexer": "ipython3",
   "version": "3.11.3"
  }
 },
 "nbformat": 4,
 "nbformat_minor": 5
}
